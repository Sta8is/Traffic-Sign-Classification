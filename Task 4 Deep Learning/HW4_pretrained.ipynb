{
  "nbformat": 4,
  "nbformat_minor": 0,
  "metadata": {
    "accelerator": "GPU",
    "colab": {
      "name": "HW4_pretrained.ipynb",
      "provenance": []
    },
    "kernelspec": {
      "display_name": "Python 3",
      "name": "python3"
    }
  },
  "cells": [
    {
      "cell_type": "code",
      "metadata": {
        "id": "_WMdVoRXrLpG"
      },
      "source": [
        "from keras import models\r\n",
        "from keras import layers\r\n",
        "from keras import optimizers\r\n",
        "from keras import regularizers\r\n",
        "import tensorflow as tf\r\n",
        "import os\r\n",
        "import zipfile"
      ],
      "execution_count": null,
      "outputs": []
    },
    {
      "cell_type": "code",
      "metadata": {
        "colab": {
          "base_uri": "https://localhost:8080/"
        },
        "id": "RWSJpsyKqHjH",
        "outputId": "5f6d743b-a981-4c96-f8a2-23c92c3b02a7"
      },
      "source": [
        "from google.colab import drive\n",
        "drive.mount('/content/drive')"
      ],
      "execution_count": null,
      "outputs": [
        {
          "output_type": "stream",
          "text": [
            "Mounted at /content/drive\n"
          ],
          "name": "stdout"
        }
      ]
    },
    {
      "cell_type": "code",
      "metadata": {
        "id": "zcYhl0YAEMbr"
      },
      "source": [
        "#Comment the following lines if imadedb and imagedb_test are already in content folder or specify path for data in drive\r\n",
        "local_zip = '/content/drive/MyDrive/Colab_Notebooks/CV_2020-2021_DL/HW4/imagedb_btsd.zip'\r\n",
        "zip_ref = zipfile.ZipFile(local_zip, 'r')\r\n",
        "zip_ref.extractall('/content')\r\n",
        "zip_ref.close()"
      ],
      "execution_count": null,
      "outputs": []
    },
    {
      "cell_type": "code",
      "metadata": {
        "id": "A-lYxLbo7nDl"
      },
      "source": [
        "train_dir = \"/content/imagedb\" \r\n",
        "test_dir = \"/content/imagedb_test\" "
      ],
      "execution_count": null,
      "outputs": []
    },
    {
      "cell_type": "code",
      "metadata": {
        "colab": {
          "base_uri": "https://localhost:8080/"
        },
        "id": "GMjfMIKg-hQZ",
        "outputId": "8caa141d-bacd-4894-8812-2b44df5050b6"
      },
      "source": [
        "from keras.applications import VGG16\n",
        "#Load the VGG model\n",
        "vgg_conv = VGG16(weights='imagenet', \n",
        "                 include_top=False, \n",
        "                 input_shape=(128, 128, 3))"
      ],
      "execution_count": null,
      "outputs": [
        {
          "output_type": "stream",
          "text": [
            "Downloading data from https://storage.googleapis.com/tensorflow/keras-applications/vgg16/vgg16_weights_tf_dim_ordering_tf_kernels_notop.h5\n",
            "58892288/58889256 [==============================] - 0s 0us/step\n"
          ],
          "name": "stdout"
        }
      ]
    },
    {
      "cell_type": "code",
      "metadata": {
        "id": "ws8VYW5V7vCO"
      },
      "source": [
        "from keras.backend import tanh,softplus\r\n",
        "def mish(x):\r\n",
        "    return x * tanh(softplus(x))\r\n",
        "from keras.utils.generic_utils import get_custom_objects\r\n",
        "from keras.layers import Activation\r\n",
        "get_custom_objects().update({'mish':mish})"
      ],
      "execution_count": null,
      "outputs": []
    },
    {
      "cell_type": "code",
      "metadata": {
        "colab": {
          "base_uri": "https://localhost:8080/"
        },
        "id": "GB87WpHe7yd6",
        "outputId": "7219d74f-c871-45b9-daed-0bb3b91e3ee6"
      },
      "source": [
        "# Freeze the layers except the last 4 layers\r\n",
        "for layer in vgg_conv.layers[:-4]:\r\n",
        "    layer.trainable = False\r\n",
        " \r\n",
        "# Check the trainable status of the individual layers\r\n",
        "for layer in vgg_conv.layers:\r\n",
        "    print(layer, layer.trainable)"
      ],
      "execution_count": null,
      "outputs": [
        {
          "output_type": "stream",
          "text": [
            "<tensorflow.python.keras.engine.input_layer.InputLayer object at 0x7f5e95228cf8> False\n",
            "<tensorflow.python.keras.layers.convolutional.Conv2D object at 0x7f5e9c160e10> False\n",
            "<tensorflow.python.keras.layers.convolutional.Conv2D object at 0x7f5e9c160358> False\n",
            "<tensorflow.python.keras.layers.pooling.MaxPooling2D object at 0x7f5e9c1d7f28> False\n",
            "<tensorflow.python.keras.layers.convolutional.Conv2D object at 0x7f5e95265320> False\n",
            "<tensorflow.python.keras.layers.convolutional.Conv2D object at 0x7f5e952320b8> False\n",
            "<tensorflow.python.keras.layers.pooling.MaxPooling2D object at 0x7f5ece551a58> False\n",
            "<tensorflow.python.keras.layers.convolutional.Conv2D object at 0x7f5ece552a58> False\n",
            "<tensorflow.python.keras.layers.convolutional.Conv2D object at 0x7f5ece553780> False\n",
            "<tensorflow.python.keras.layers.convolutional.Conv2D object at 0x7f5ece5539b0> False\n",
            "<tensorflow.python.keras.layers.pooling.MaxPooling2D object at 0x7f5e951234a8> False\n",
            "<tensorflow.python.keras.layers.convolutional.Conv2D object at 0x7f5e82633e80> False\n",
            "<tensorflow.python.keras.layers.convolutional.Conv2D object at 0x7f5e803b74e0> False\n",
            "<tensorflow.python.keras.layers.convolutional.Conv2D object at 0x7f5e803bd358> False\n",
            "<tensorflow.python.keras.layers.pooling.MaxPooling2D object at 0x7f5e803c3860> False\n",
            "<tensorflow.python.keras.layers.convolutional.Conv2D object at 0x7f5e803ca7b8> True\n",
            "<tensorflow.python.keras.layers.convolutional.Conv2D object at 0x7f5e803ca1d0> True\n",
            "<tensorflow.python.keras.layers.convolutional.Conv2D object at 0x7f5e803bd240> True\n",
            "<tensorflow.python.keras.layers.pooling.MaxPooling2D object at 0x7f5e803d55f8> True\n"
          ],
          "name": "stdout"
        }
      ]
    },
    {
      "cell_type": "code",
      "metadata": {
        "colab": {
          "base_uri": "https://localhost:8080/"
        },
        "id": "89pq7EQO78PG",
        "outputId": "e0d9f8fb-1cad-4308-bcff-d3168ffd0d67"
      },
      "source": [
        "# Create the model\r\n",
        "model = models.Sequential()\r\n",
        " \r\n",
        "# Add the vgg convolutional base model\r\n",
        "model.add(vgg_conv)\r\n",
        "model.add(layers.Flatten())\r\n",
        "model.add(layers.Dense(512,activation=\"mish\"))\r\n",
        "model.add(layers.BatchNormalization())\r\n",
        "model.add(layers.Dropout(0.3))\r\n",
        "model.add(layers.Dense(256,activation=\"mish\"))\r\n",
        "model.add(layers.BatchNormalization())\r\n",
        "model.add(layers.Dropout(0.2))\r\n",
        "model.add(layers.Dense(128,activation=\"mish\"))\r\n",
        "model.add(layers.BatchNormalization())\r\n",
        "model.add(layers.Dropout(0.2))\r\n",
        "model.add(layers.Dense(34,activation=\"softmax\"))\r\n",
        "\r\n",
        "model.summary()"
      ],
      "execution_count": null,
      "outputs": [
        {
          "output_type": "stream",
          "text": [
            "Model: \"sequential\"\n",
            "_________________________________________________________________\n",
            "Layer (type)                 Output Shape              Param #   \n",
            "=================================================================\n",
            "vgg16 (Functional)           (None, 4, 4, 512)         14714688  \n",
            "_________________________________________________________________\n",
            "flatten (Flatten)            (None, 8192)              0         \n",
            "_________________________________________________________________\n",
            "dense (Dense)                (None, 512)               4194816   \n",
            "_________________________________________________________________\n",
            "batch_normalization (BatchNo (None, 512)               2048      \n",
            "_________________________________________________________________\n",
            "dropout (Dropout)            (None, 512)               0         \n",
            "_________________________________________________________________\n",
            "dense_1 (Dense)              (None, 256)               131328    \n",
            "_________________________________________________________________\n",
            "batch_normalization_1 (Batch (None, 256)               1024      \n",
            "_________________________________________________________________\n",
            "dropout_1 (Dropout)          (None, 256)               0         \n",
            "_________________________________________________________________\n",
            "dense_2 (Dense)              (None, 128)               32896     \n",
            "_________________________________________________________________\n",
            "batch_normalization_2 (Batch (None, 128)               512       \n",
            "_________________________________________________________________\n",
            "dropout_2 (Dropout)          (None, 128)               0         \n",
            "_________________________________________________________________\n",
            "dense_3 (Dense)              (None, 34)                4386      \n",
            "=================================================================\n",
            "Total params: 19,081,698\n",
            "Trainable params: 11,444,642\n",
            "Non-trainable params: 7,637,056\n",
            "_________________________________________________________________\n"
          ],
          "name": "stdout"
        }
      ]
    },
    {
      "cell_type": "code",
      "metadata": {
        "id": "JruvtdJE9aoW",
        "colab": {
          "base_uri": "https://localhost:8080/"
        },
        "outputId": "27c138e4-5142-4b7c-88c9-044d3d8a6dee"
      },
      "source": [
        "from tensorflow.keras.preprocessing.image import ImageDataGenerator\n",
        "\n",
        "train_datagen = ImageDataGenerator(rescale=1./255,horizontal_flip=True,vertical_flip=True,zoom_range=0.3,rotation_range=20, validation_split=0.2)\n",
        "# train_datagen = ImageDataGenerator(rescale=1./255, validation_split=0.2)\n",
        "val_datagen  = ImageDataGenerator(rescale=1./255, validation_split=0.2)\n",
        "\n",
        "# --------------------\n",
        "# Flow training images in batches of  using train_datagen generator\n",
        "# --------------------\n",
        "train_generator = train_datagen.flow_from_directory(train_dir,\n",
        "                                                    batch_size=128,\n",
        "                                                    class_mode='categorical',\n",
        "                                                    # color_mode='grayscale',\n",
        "                                                    target_size=(128,128),\n",
        "                                                    shuffle=True,\n",
        "                                                    subset='training', seed=1)     \n",
        "# --------------------\n",
        "# Flow validation images in batches of  using test_datagen generator\n",
        "# --------------------\n",
        "validation_generator =  train_datagen.flow_from_directory(train_dir,\n",
        "                                                        batch_size=128,\n",
        "                                                        class_mode='categorical',\n",
        "                                                        #  color_mode='grayscale',\n",
        "                                                         target_size=(128,128),\n",
        "                                                        subset='validation', seed=1) "
      ],
      "execution_count": null,
      "outputs": [
        {
          "output_type": "stream",
          "text": [
            "Found 2457 images belonging to 34 classes.\n",
            "Found 599 images belonging to 34 classes.\n"
          ],
          "name": "stdout"
        }
      ]
    },
    {
      "cell_type": "code",
      "metadata": {
        "id": "ewMeZMGOI7pK"
      },
      "source": [
        "import datetime\r\n",
        "\r\n",
        "\r\n",
        "callbacks = []\r\n",
        "\r\n",
        "logdir = os.path.join(\"/content/drive/MyDrive/Colab_Notebooks/CV_2020-2021_DL/HW4/logs-pre\", datetime.datetime.now().strftime(\"%Y%m%d-%H%M%S\"))\r\n",
        "tensorboard_callback = tf.keras.callbacks.TensorBoard(logdir, histogram_freq=1)\r\n",
        "callbacks.append(tensorboard_callback)\r\n",
        "\r\n",
        "save_best_callback = tf.keras.callbacks.ModelCheckpoint(f'/content/drive/MyDrive/Colab_Notebooks/CV_2020-2021_DL/HW4/best_weights_mish_aug_pretrained.hdf5', save_best_only=True, verbose=1)\r\n",
        "callbacks.append(save_best_callback)\r\n",
        "\r\n",
        "early_stop_callback = tf.keras.callbacks.EarlyStopping(patience=10, restore_best_weights=True, verbose=1)\r\n",
        "callbacks.append(early_stop_callback)\r\n",
        "\r\n"
      ],
      "execution_count": null,
      "outputs": []
    },
    {
      "cell_type": "code",
      "metadata": {
        "colab": {
          "base_uri": "https://localhost:8080/"
        },
        "id": "vpW9rDvW8RbY",
        "outputId": "00a1fdf6-3246-4338-d600-05af04d84112"
      },
      "source": [
        "# Compile the model\r\n",
        "model.compile(loss='categorical_crossentropy',\r\n",
        "              optimizer=optimizers.Adam(lr=1e-4),\r\n",
        "              metrics=['acc'])\r\n",
        "# Train the model\r\n",
        "history = model.fit(\r\n",
        "      train_generator,\r\n",
        "      steps_per_epoch=train_generator.samples/train_generator.batch_size,\r\n",
        "      epochs=150,\r\n",
        "      validation_data=validation_generator,\r\n",
        "      verbose=1,\r\n",
        "      callbacks=callbacks)\r\n",
        " \r\n",
        "# Save the model\r\n",
        "# model.save('/content/drive/MyDrive/Colab_Notebooks/CV_2020-2021_DL/HW4/mish_aug.h5')"
      ],
      "execution_count": null,
      "outputs": [
        {
          "output_type": "stream",
          "text": [
            "Epoch 1/150\n",
            "19/19 [==============================] - 24s 847ms/step - loss: 3.3082 - acc: 0.2030 - val_loss: 2.2916 - val_acc: 0.5726\n",
            "\n",
            "Epoch 00001: val_loss improved from inf to 2.29157, saving model to /content/drive/MyDrive/Colab_Notebooks/CV_2020-2021_DL/HW4/best_weights_mish_aug_pretrained.hdf5\n",
            "Epoch 2/150\n",
            "19/19 [==============================] - 12s 636ms/step - loss: 1.3376 - acc: 0.6613 - val_loss: 1.6503 - val_acc: 0.7813\n",
            "\n",
            "Epoch 00002: val_loss improved from 2.29157 to 1.65029, saving model to /content/drive/MyDrive/Colab_Notebooks/CV_2020-2021_DL/HW4/best_weights_mish_aug_pretrained.hdf5\n",
            "Epoch 3/150\n",
            "19/19 [==============================] - 12s 644ms/step - loss: 0.8447 - acc: 0.8071 - val_loss: 1.2691 - val_acc: 0.8748\n",
            "\n",
            "Epoch 00003: val_loss improved from 1.65029 to 1.26912, saving model to /content/drive/MyDrive/Colab_Notebooks/CV_2020-2021_DL/HW4/best_weights_mish_aug_pretrained.hdf5\n",
            "Epoch 4/150\n",
            "19/19 [==============================] - 12s 639ms/step - loss: 0.5399 - acc: 0.8893 - val_loss: 0.9400 - val_acc: 0.9232\n",
            "\n",
            "Epoch 00004: val_loss improved from 1.26912 to 0.93996, saving model to /content/drive/MyDrive/Colab_Notebooks/CV_2020-2021_DL/HW4/best_weights_mish_aug_pretrained.hdf5\n",
            "Epoch 5/150\n",
            "19/19 [==============================] - 12s 642ms/step - loss: 0.4470 - acc: 0.9084 - val_loss: 0.6737 - val_acc: 0.9149\n",
            "\n",
            "Epoch 00005: val_loss improved from 0.93996 to 0.67368, saving model to /content/drive/MyDrive/Colab_Notebooks/CV_2020-2021_DL/HW4/best_weights_mish_aug_pretrained.hdf5\n",
            "Epoch 6/150\n",
            "19/19 [==============================] - 12s 648ms/step - loss: 0.3345 - acc: 0.9352 - val_loss: 0.6383 - val_acc: 0.9282\n",
            "\n",
            "Epoch 00006: val_loss improved from 0.67368 to 0.63830, saving model to /content/drive/MyDrive/Colab_Notebooks/CV_2020-2021_DL/HW4/best_weights_mish_aug_pretrained.hdf5\n",
            "Epoch 7/150\n",
            "19/19 [==============================] - 12s 650ms/step - loss: 0.2634 - acc: 0.9601 - val_loss: 0.4644 - val_acc: 0.9432\n",
            "\n",
            "Epoch 00007: val_loss improved from 0.63830 to 0.46440, saving model to /content/drive/MyDrive/Colab_Notebooks/CV_2020-2021_DL/HW4/best_weights_mish_aug_pretrained.hdf5\n",
            "Epoch 8/150\n",
            "19/19 [==============================] - 12s 642ms/step - loss: 0.2275 - acc: 0.9578 - val_loss: 0.3784 - val_acc: 0.9449\n",
            "\n",
            "Epoch 00008: val_loss improved from 0.46440 to 0.37837, saving model to /content/drive/MyDrive/Colab_Notebooks/CV_2020-2021_DL/HW4/best_weights_mish_aug_pretrained.hdf5\n",
            "Epoch 9/150\n",
            "19/19 [==============================] - 12s 642ms/step - loss: 0.1955 - acc: 0.9676 - val_loss: 0.2783 - val_acc: 0.9583\n",
            "\n",
            "Epoch 00009: val_loss improved from 0.37837 to 0.27831, saving model to /content/drive/MyDrive/Colab_Notebooks/CV_2020-2021_DL/HW4/best_weights_mish_aug_pretrained.hdf5\n",
            "Epoch 10/150\n",
            "19/19 [==============================] - 12s 642ms/step - loss: 0.1600 - acc: 0.9747 - val_loss: 0.2413 - val_acc: 0.9633\n",
            "\n",
            "Epoch 00010: val_loss improved from 0.27831 to 0.24128, saving model to /content/drive/MyDrive/Colab_Notebooks/CV_2020-2021_DL/HW4/best_weights_mish_aug_pretrained.hdf5\n",
            "Epoch 11/150\n",
            "19/19 [==============================] - 12s 647ms/step - loss: 0.1364 - acc: 0.9789 - val_loss: 0.2409 - val_acc: 0.9499\n",
            "\n",
            "Epoch 00011: val_loss improved from 0.24128 to 0.24094, saving model to /content/drive/MyDrive/Colab_Notebooks/CV_2020-2021_DL/HW4/best_weights_mish_aug_pretrained.hdf5\n",
            "Epoch 12/150\n",
            "19/19 [==============================] - 12s 646ms/step - loss: 0.1195 - acc: 0.9820 - val_loss: 0.2188 - val_acc: 0.9599\n",
            "\n",
            "Epoch 00012: val_loss improved from 0.24094 to 0.21877, saving model to /content/drive/MyDrive/Colab_Notebooks/CV_2020-2021_DL/HW4/best_weights_mish_aug_pretrained.hdf5\n",
            "Epoch 13/150\n",
            "19/19 [==============================] - 12s 641ms/step - loss: 0.1070 - acc: 0.9853 - val_loss: 0.1852 - val_acc: 0.9599\n",
            "\n",
            "Epoch 00013: val_loss improved from 0.21877 to 0.18519, saving model to /content/drive/MyDrive/Colab_Notebooks/CV_2020-2021_DL/HW4/best_weights_mish_aug_pretrained.hdf5\n",
            "Epoch 14/150\n",
            "19/19 [==============================] - 12s 646ms/step - loss: 0.0976 - acc: 0.9857 - val_loss: 0.1869 - val_acc: 0.9633\n",
            "\n",
            "Epoch 00014: val_loss did not improve from 0.18519\n",
            "Epoch 15/150\n",
            "19/19 [==============================] - 12s 633ms/step - loss: 0.0870 - acc: 0.9900 - val_loss: 0.1682 - val_acc: 0.9616\n",
            "\n",
            "Epoch 00015: val_loss improved from 0.18519 to 0.16820, saving model to /content/drive/MyDrive/Colab_Notebooks/CV_2020-2021_DL/HW4/best_weights_mish_aug_pretrained.hdf5\n",
            "Epoch 16/150\n",
            "19/19 [==============================] - 12s 645ms/step - loss: 0.0817 - acc: 0.9885 - val_loss: 0.1801 - val_acc: 0.9533\n",
            "\n",
            "Epoch 00016: val_loss did not improve from 0.16820\n",
            "Epoch 17/150\n",
            "19/19 [==============================] - 12s 625ms/step - loss: 0.0622 - acc: 0.9927 - val_loss: 0.1689 - val_acc: 0.9583\n",
            "\n",
            "Epoch 00017: val_loss did not improve from 0.16820\n",
            "Epoch 18/150\n",
            "19/19 [==============================] - 12s 626ms/step - loss: 0.0778 - acc: 0.9893 - val_loss: 0.1720 - val_acc: 0.9533\n",
            "\n",
            "Epoch 00018: val_loss did not improve from 0.16820\n",
            "Epoch 19/150\n",
            "19/19 [==============================] - 12s 628ms/step - loss: 0.0611 - acc: 0.9934 - val_loss: 0.1628 - val_acc: 0.9616\n",
            "\n",
            "Epoch 00019: val_loss improved from 0.16820 to 0.16282, saving model to /content/drive/MyDrive/Colab_Notebooks/CV_2020-2021_DL/HW4/best_weights_mish_aug_pretrained.hdf5\n",
            "Epoch 20/150\n",
            "19/19 [==============================] - 12s 645ms/step - loss: 0.0490 - acc: 0.9961 - val_loss: 0.1440 - val_acc: 0.9633\n",
            "\n",
            "Epoch 00020: val_loss improved from 0.16282 to 0.14404, saving model to /content/drive/MyDrive/Colab_Notebooks/CV_2020-2021_DL/HW4/best_weights_mish_aug_pretrained.hdf5\n",
            "Epoch 21/150\n",
            "19/19 [==============================] - 12s 638ms/step - loss: 0.0470 - acc: 0.9935 - val_loss: 0.1076 - val_acc: 0.9666\n",
            "\n",
            "Epoch 00021: val_loss improved from 0.14404 to 0.10758, saving model to /content/drive/MyDrive/Colab_Notebooks/CV_2020-2021_DL/HW4/best_weights_mish_aug_pretrained.hdf5\n",
            "Epoch 22/150\n",
            "19/19 [==============================] - 12s 669ms/step - loss: 0.0515 - acc: 0.9953 - val_loss: 0.1170 - val_acc: 0.9666\n",
            "\n",
            "Epoch 00022: val_loss did not improve from 0.10758\n",
            "Epoch 23/150\n",
            "19/19 [==============================] - 12s 628ms/step - loss: 0.0384 - acc: 0.9949 - val_loss: 0.1265 - val_acc: 0.9683\n",
            "\n",
            "Epoch 00023: val_loss did not improve from 0.10758\n",
            "Epoch 24/150\n",
            "19/19 [==============================] - 12s 620ms/step - loss: 0.0412 - acc: 0.9940 - val_loss: 0.1481 - val_acc: 0.9599\n",
            "\n",
            "Epoch 00024: val_loss did not improve from 0.10758\n",
            "Epoch 25/150\n",
            "19/19 [==============================] - 12s 627ms/step - loss: 0.0424 - acc: 0.9936 - val_loss: 0.1597 - val_acc: 0.9583\n",
            "\n",
            "Epoch 00025: val_loss did not improve from 0.10758\n",
            "Epoch 26/150\n",
            "19/19 [==============================] - 12s 624ms/step - loss: 0.0334 - acc: 0.9951 - val_loss: 0.1465 - val_acc: 0.9599\n",
            "\n",
            "Epoch 00026: val_loss did not improve from 0.10758\n",
            "Epoch 27/150\n",
            "19/19 [==============================] - 12s 625ms/step - loss: 0.0396 - acc: 0.9936 - val_loss: 0.1274 - val_acc: 0.9683\n",
            "\n",
            "Epoch 00027: val_loss did not improve from 0.10758\n",
            "Epoch 28/150\n",
            "19/19 [==============================] - 12s 621ms/step - loss: 0.0323 - acc: 0.9950 - val_loss: 0.1491 - val_acc: 0.9549\n",
            "\n",
            "Epoch 00028: val_loss did not improve from 0.10758\n",
            "Epoch 29/150\n",
            "19/19 [==============================] - 12s 621ms/step - loss: 0.0407 - acc: 0.9940 - val_loss: 0.1857 - val_acc: 0.9549\n",
            "\n",
            "Epoch 00029: val_loss did not improve from 0.10758\n",
            "Epoch 30/150\n",
            "19/19 [==============================] - 12s 623ms/step - loss: 0.0482 - acc: 0.9974 - val_loss: 0.1166 - val_acc: 0.9699\n",
            "\n",
            "Epoch 00030: val_loss did not improve from 0.10758\n",
            "Epoch 31/150\n",
            "19/19 [==============================] - 12s 629ms/step - loss: 0.0357 - acc: 0.9945 - val_loss: 0.1053 - val_acc: 0.9649\n",
            "\n",
            "Epoch 00031: val_loss improved from 0.10758 to 0.10528, saving model to /content/drive/MyDrive/Colab_Notebooks/CV_2020-2021_DL/HW4/best_weights_mish_aug_pretrained.hdf5\n",
            "Epoch 32/150\n",
            "19/19 [==============================] - 12s 647ms/step - loss: 0.0343 - acc: 0.9941 - val_loss: 0.1075 - val_acc: 0.9716\n",
            "\n",
            "Epoch 00032: val_loss did not improve from 0.10528\n",
            "Epoch 33/150\n",
            "19/19 [==============================] - 12s 624ms/step - loss: 0.0253 - acc: 0.9996 - val_loss: 0.1513 - val_acc: 0.9633\n",
            "\n",
            "Epoch 00033: val_loss did not improve from 0.10528\n",
            "Epoch 34/150\n",
            "19/19 [==============================] - 12s 628ms/step - loss: 0.0257 - acc: 0.9972 - val_loss: 0.1101 - val_acc: 0.9699\n",
            "\n",
            "Epoch 00034: val_loss did not improve from 0.10528\n",
            "Epoch 35/150\n",
            "19/19 [==============================] - 12s 624ms/step - loss: 0.0342 - acc: 0.9948 - val_loss: 0.1386 - val_acc: 0.9649\n",
            "\n",
            "Epoch 00035: val_loss did not improve from 0.10528\n",
            "Epoch 36/150\n",
            "19/19 [==============================] - 12s 623ms/step - loss: 0.0209 - acc: 0.9983 - val_loss: 0.1377 - val_acc: 0.9649\n",
            "\n",
            "Epoch 00036: val_loss did not improve from 0.10528\n",
            "Epoch 37/150\n",
            "19/19 [==============================] - 12s 619ms/step - loss: 0.0344 - acc: 0.9942 - val_loss: 0.1450 - val_acc: 0.9566\n",
            "\n",
            "Epoch 00037: val_loss did not improve from 0.10528\n",
            "Epoch 38/150\n",
            "19/19 [==============================] - 12s 634ms/step - loss: 0.0408 - acc: 0.9923 - val_loss: 0.1554 - val_acc: 0.9549\n",
            "\n",
            "Epoch 00038: val_loss did not improve from 0.10528\n",
            "Epoch 39/150\n",
            "19/19 [==============================] - 12s 644ms/step - loss: 0.0597 - acc: 0.9897 - val_loss: 0.1011 - val_acc: 0.9750\n",
            "\n",
            "Epoch 00039: val_loss improved from 0.10528 to 0.10111, saving model to /content/drive/MyDrive/Colab_Notebooks/CV_2020-2021_DL/HW4/best_weights_mish_aug_pretrained.hdf5\n",
            "Epoch 40/150\n",
            "19/19 [==============================] - 12s 639ms/step - loss: 0.0396 - acc: 0.9897 - val_loss: 0.2002 - val_acc: 0.9599\n",
            "\n",
            "Epoch 00040: val_loss did not improve from 0.10111\n",
            "Epoch 41/150\n",
            "19/19 [==============================] - 12s 622ms/step - loss: 0.0285 - acc: 0.9944 - val_loss: 0.1618 - val_acc: 0.9616\n",
            "\n",
            "Epoch 00041: val_loss did not improve from 0.10111\n",
            "Epoch 42/150\n",
            "19/19 [==============================] - 12s 622ms/step - loss: 0.0230 - acc: 0.9976 - val_loss: 0.1205 - val_acc: 0.9666\n",
            "\n",
            "Epoch 00042: val_loss did not improve from 0.10111\n",
            "Epoch 43/150\n",
            "19/19 [==============================] - 12s 621ms/step - loss: 0.0206 - acc: 0.9987 - val_loss: 0.1240 - val_acc: 0.9633\n",
            "\n",
            "Epoch 00043: val_loss did not improve from 0.10111\n",
            "Epoch 44/150\n",
            "19/19 [==============================] - 12s 649ms/step - loss: 0.0234 - acc: 0.9975 - val_loss: 0.1020 - val_acc: 0.9666\n",
            "\n",
            "Epoch 00044: val_loss did not improve from 0.10111\n",
            "Epoch 45/150\n",
            "19/19 [==============================] - 12s 628ms/step - loss: 0.0293 - acc: 0.9961 - val_loss: 0.1330 - val_acc: 0.9649\n",
            "\n",
            "Epoch 00045: val_loss did not improve from 0.10111\n",
            "Epoch 46/150\n",
            "19/19 [==============================] - 12s 622ms/step - loss: 0.0175 - acc: 0.9983 - val_loss: 0.1275 - val_acc: 0.9683\n",
            "\n",
            "Epoch 00046: val_loss did not improve from 0.10111\n",
            "Epoch 47/150\n",
            "19/19 [==============================] - 12s 627ms/step - loss: 0.0160 - acc: 0.9981 - val_loss: 0.1547 - val_acc: 0.9633\n",
            "\n",
            "Epoch 00047: val_loss did not improve from 0.10111\n",
            "Epoch 48/150\n",
            "19/19 [==============================] - 12s 619ms/step - loss: 0.0145 - acc: 0.9989 - val_loss: 0.1729 - val_acc: 0.9599\n",
            "\n",
            "Epoch 00048: val_loss did not improve from 0.10111\n",
            "Epoch 49/150\n",
            "19/19 [==============================] - 12s 622ms/step - loss: 0.0152 - acc: 0.9981 - val_loss: 0.1966 - val_acc: 0.9566\n",
            "\n",
            "Epoch 00049: val_loss did not improve from 0.10111\n",
            "Restoring model weights from the end of the best epoch.\n",
            "Epoch 00049: early stopping\n"
          ],
          "name": "stdout"
        }
      ]
    },
    {
      "cell_type": "code",
      "metadata": {
        "colab": {
          "base_uri": "https://localhost:8080/"
        },
        "id": "B-3DGW1K8M5r",
        "outputId": "05deb116-4cf5-4d33-db33-317faa1ed70d"
      },
      "source": [
        "test_datagen  = ImageDataGenerator(rescale=1./255)\r\n",
        "# --------------------\r\n",
        "# Flow validation images in batches of 20 using test_datagen generator\r\n",
        "# --------------------\r\n",
        "test_generator =  test_datagen.flow_from_directory(test_dir,\r\n",
        "                                                        batch_size=64,\r\n",
        "                                                        class_mode='categorical',\r\n",
        "                                                        #  color_mode='grayscale',\r\n",
        "                                                         target_size=(128,128)) \r\n",
        "loss, acc = model.evaluate(test_generator)"
      ],
      "execution_count": null,
      "outputs": [
        {
          "output_type": "stream",
          "text": [
            "Found 2149 images belonging to 34 classes.\n",
            "34/34 [==============================] - 5s 113ms/step - loss: 0.1191 - acc: 0.9716\n"
          ],
          "name": "stdout"
        }
      ]
    }
  ]
}